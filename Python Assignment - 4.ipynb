{
 "cells": [
  {
   "cell_type": "markdown",
   "metadata": {},
   "source": [
    "# Tuples, Set, Dictionaries and Functions"
   ]
  },
  {
   "cell_type": "markdown",
   "metadata": {},
   "source": [
    "#### Python Assignment - 4"
   ]
  },
  {
   "cell_type": "markdown",
   "metadata": {},
   "source": [
    "1.1 Write a Python Program(with class concepts) to find the area of the triangle using the below\n",
    "formula. Function to take the length of the sides of triangle from user should be defined in the parent\n",
    "class and function to calculate the area should be defined in subclass.\n",
    "\n",
    "area = (s*(s-a)*(s-b)*(s-c)) ** 0.5"
   ]
  },
  {
   "cell_type": "code",
   "execution_count": 1,
   "metadata": {},
   "outputs": [],
   "source": [
    "#Parent class with three sides\n",
    "class Triangle:\n",
    "    def __init__(self, sideOne, sideTwo, sideThree):\n",
    "        self.sideOne = sideOne\n",
    "        self.sideTwo = sideTwo\n",
    "        self.sideThree = sideThree\n",
    "        \n",
    "#Sub class with triangle_area method\n",
    "class Area(Triangle):\n",
    "    def __init__(self, *args):\n",
    "        super(Area, self).__init__(*args)\n",
    "        \n",
    "    def trianle_area(self):\n",
    "        #Semi perimeter formula s = (a+b+c)/2\n",
    "        self.s_perimeter = (self.sideOne + self.sideTwo + self.sideThree) / 2\n",
    "        #Area of triangle area = (s(s-a)(s-b)(s-c)) * 0.5 \n",
    "        return (self.s_perimeter*(self.s_perimeter-self.sideOne)*(self.s_perimeter-self.sideTwo)*(self.s_perimeter-self.sideThree)) ** 0.5\n"
   ]
  },
  {
   "cell_type": "code",
   "execution_count": null,
   "metadata": {},
   "outputs": [],
   "source": [
    "#Input from users for three sides of a triangle\n",
    "sideOne = float(input(\"Please enter first side of triangle:\"))\n",
    "sideTwo = float(input(\"Please enter second side of triangle:\"))\n",
    "sideThree = float(input(\"Please enter third side of triangle:\"))\n",
    "\n",
    "#Call Class function\n",
    "output = Area(sideOne,sideTwo,sideThree)\n",
    "\n",
    "#Print output\n",
    "print(\"The area of triangle is:\",output.trianle_area())"
   ]
  },
  {
   "cell_type": "markdown",
   "metadata": {},
   "source": [
    "1.2 Write a function filter_long_words() that takes a list of words and an integer n and returns\n",
    "the list of words that are longer than n."
   ]
  },
  {
   "cell_type": "code",
   "execution_count": 2,
   "metadata": {},
   "outputs": [],
   "source": [
    "#Function filter_long_words with list of words and an integer n \n",
    "def filter_long_words(inputList,num):\n",
    "    tempList = []\n",
    "    for val in inputList:\n",
    "        if len(val)>num:\n",
    "            tempList.append(val) \n",
    "            \n",
    "#returns the list of words that are longer than n\n",
    "    return tempList  "
   ]
  },
  {
   "cell_type": "code",
   "execution_count": 5,
   "metadata": {},
   "outputs": [],
   "source": [
    "#Word Length num(n)\n",
    "num = 4\n",
    "\n",
    "#Input list to function\n",
    "inputList = ['santhosh','adarsh','pramod','bharath','prasanna','ram','uday']\n",
    "\n",
    "#Call function filter_long_word\n",
    "output = filter_long_words(inputList,num)\n",
    "\n",
    "#Print output\n",
    "print(output)"
   ]
  },
  {
   "cell_type": "markdown",
   "metadata": {},
   "source": [
    "2.1 Write a Python program using function concept that maps list of words into a list of integers\n",
    "representing the lengths of the corresponding words.\n",
    "Hint: If a list [ ab,cde,erty] is passed on to the python function output should come as [2,3,4]\n",
    "Here 2,3 and 4 are the lengths of the words in the list."
   ]
  },
  {
   "cell_type": "code",
   "execution_count": 13,
   "metadata": {},
   "outputs": [],
   "source": [
    "#Method 1 (with map function)\n",
    "#Input list to function\n",
    "inputList = ['santhosh','adarsh','pramod','bharath','prasanna','ram','uday']\n",
    "\n",
    "#Call word_length\n",
    "output = list(map(lambda val:len(val),inputList))\n",
    "\n",
    "#Print output\n",
    "print(output)"
   ]
  },
  {
   "cell_type": "code",
   "execution_count": 11,
   "metadata": {},
   "outputs": [],
   "source": [
    "#Method 2 (with normal function)\n",
    "#Function word_length to find word length from a list\n",
    "def word_length(inputList):\n",
    "    tempList = []\n",
    "    for val in inputList:\n",
    "        tempList.append(len(val)) \n",
    "            \n",
    "#returns the len of words\n",
    "    return tempList "
   ]
  },
  {
   "cell_type": "code",
   "execution_count": 14,
   "metadata": {},
   "outputs": [],
   "source": [
    "#Input list to function\n",
    "inputList = ['santhosh','adarsh','pramod','bharath','prasanna','ram','uday']\n",
    "\n",
    "#Call word_length\n",
    "output = word_length(inputList)\n",
    "\n",
    "#Print output\n",
    "print(output)"
   ]
  },
  {
   "cell_type": "markdown",
   "metadata": {},
   "source": [
    "2.2 Write a Python function which takes a character (i.e. a string of length 1) and returns True if\n",
    "it is a vowel, False otherwise."
   ]
  },
  {
   "cell_type": "code",
   "execution_count": null,
   "metadata": {},
   "outputs": [],
   "source": [
    "#Function vowel to find given char is vowel or not\n",
    "def vowel(letterVal):\n",
    "    vowels = ('a', 'e', 'i', 'o', 'u')\n",
    "    if letterVal not in vowels:\n",
    "        return False\n",
    "    return True\n",
    "\n",
    "#Input Char\n",
    "letterVal = input(\"Enter a letter to check vowel or not:\")\n",
    "\n",
    "#Validation of char of length 1\n",
    "if len(letterVal) == 1 :        \n",
    "    output = vowel(letterVal)\n",
    "    print(output)\n",
    "else:\n",
    "    print(\"Please provide input string of length 1\")"
   ]
  }
 ],
 "metadata": {
  "kernelspec": {
   "display_name": "Python 3",
   "language": "python",
   "name": "python3"
  },
  "language_info": {
   "codemirror_mode": {
    "name": "ipython",
    "version": 3
   },
   "file_extension": ".py",
   "mimetype": "text/x-python",
   "name": "python",
   "nbconvert_exporter": "python",
   "pygments_lexer": "ipython3",
   "version": "3.7.6"
  }
 },
 "nbformat": 4,
 "nbformat_minor": 4
}
