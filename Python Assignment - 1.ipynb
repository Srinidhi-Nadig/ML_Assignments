{
 "cells": [
  {
   "cell_type": "markdown",
   "metadata": {},
   "source": [
    "# Python Basics, Conditional and loop"
   ]
  },
  {
   "cell_type": "markdown",
   "metadata": {},
   "source": [
    "### Python Assignment - 1"
   ]
  },
  {
   "cell_type": "markdown",
   "metadata": {},
   "source": [
    "1. Write a program which will find all such numbers which are divisible by 7 but are not a multiple of 5, between 2000 and 3200 (both included). The numbers obtained should be printed in a comma-separated sequence on a single line."
   ]
  },
  {
   "cell_type": "code",
   "execution_count": 9,
   "metadata": {},
   "outputs": [],
   "source": [
    "#List Declaration\n",
    "result = []\n",
    "\n",
    "# For loop to identify numbers with range 2000 and 3200(Included)\n",
    "# Divisible of 7 and not multiple of 5\n",
    "for num in range(2000,3201):   \n",
    "    if num % 7==0 and num % 5!=0:  \n",
    "        result.append(str(num))  \n",
    "        \n",
    "# Print result n a comma-separated sequence on a single line.\n",
    "print (','.join(result)) "
   ]
  },
  {
   "cell_type": "markdown",
   "metadata": {},
   "source": [
    "2. Write a Python program to accept the user's first and last name and then getting them printed in the the reverse order with a space between first name and last name."
   ]
  },
  {
   "cell_type": "code",
   "execution_count": 10,
   "metadata": {},
   "outputs": [],
   "source": [
    "#Reading first name from the user\n",
    "strFirstName = str(input(\"Enter First name: \"))\n",
    "\n",
    "#Reading last name from the user\n",
    "strLastName = str(input(\"Enter Last name: \"))\n",
    "\n",
    "#Printing reverse order with space between them\n",
    "print(strFirstName[::-1] + \" \" + strLastName[::-1])"
   ]
  },
  {
   "cell_type": "markdown",
   "metadata": {},
   "source": [
    "3. Write a Python program to find the volume of a sphere with diameter 12 cm.\n",
    "   Formula: V=4/3 * π * r 3 \n",
    "    "
   ]
  },
  {
   "cell_type": "code",
   "execution_count": 18,
   "metadata": {},
   "outputs": [],
   "source": [
    "#Import pi from math function\n",
    "from math import pi\n",
    "\n",
    "#Diameter given as input\n",
    "diameter = 12\n",
    "\n",
    "#Find Radius\n",
    "radius = diameter / 2\n",
    "\n",
    "#Find volume of Sphere\n",
    "volume = (4/3) * pi * (radius ** 3)\n",
    "\n",
    "#Print the Volume\n",
    "print('The volume of a sphere with diameter 12 cm:',volume)"
   ]
  }
 ],
 "metadata": {
  "kernelspec": {
   "display_name": "Python 3",
   "language": "python",
   "name": "python3"
  },
  "language_info": {
   "codemirror_mode": {
    "name": "ipython",
    "version": 3
   },
   "file_extension": ".py",
   "mimetype": "text/x-python",
   "name": "python",
   "nbconvert_exporter": "python",
   "pygments_lexer": "ipython3",
   "version": "3.7.6"
  }
 },
 "nbformat": 4,
 "nbformat_minor": 4
}
