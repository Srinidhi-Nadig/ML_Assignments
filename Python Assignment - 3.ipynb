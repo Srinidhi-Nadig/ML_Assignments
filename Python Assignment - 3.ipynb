{
 "cells": [
  {
   "cell_type": "markdown",
   "metadata": {},
   "source": [
    "# Tuples, Set, Dictionaries and Functions"
   ]
  },
  {
   "cell_type": "markdown",
   "metadata": {},
   "source": [
    "#### Python Assignment - 3\n"
   ]
  },
  {
   "cell_type": "markdown",
   "metadata": {},
   "source": [
    "1.1 Write a Python Program to implement your own myreduce() function which works exactly\n",
    "like Python's built-in function reduce()"
   ]
  },
  {
   "cell_type": "code",
   "execution_count": 38,
   "metadata": {},
   "outputs": [],
   "source": [
    "#Function definition for reduce function\n",
    "def myreduce(passFunction, listSequence):\n",
    "\n",
    " # Get first item in sequence and assign to result\n",
    "  output = listSequence[0]\n",
    "    \n",
    " #Reduce function functionality  \n",
    "  for val in listSequence[1:]:\n",
    "        output = passFunction(output, val)\n",
    "        \n",
    " #Return output       \n",
    "  return output"
   ]
  },
  {
   "cell_type": "code",
   "execution_count": 40,
   "metadata": {},
   "outputs": [],
   "source": [
    "#Sample Code to call function\n",
    "#Declare a list number\n",
    "listVal = [1,2,3,4,5]\n",
    "\n",
    "#Call my reduce function\n",
    "output = myreduce(lambda valOne,valTwo : valOne + valTwo, listVal)\n",
    "\n",
    "#Display output\n",
    "print(output)"
   ]
  },
  {
   "cell_type": "markdown",
   "metadata": {},
   "source": [
    "1.2 Write a Python program to implement your own myfilter() function which works exactly\n",
    "like Python's built-in function filter()"
   ]
  },
  {
   "cell_type": "code",
   "execution_count": 41,
   "metadata": {},
   "outputs": [],
   "source": [
    "#Function definition for filter function\n",
    "def myfilter(passFunction, listSequence):\n",
    "\n",
    "#Initialization empty list\n",
    " output = []\n",
    "#filter function functionaliton\n",
    " for val in listSequence:\n",
    "        if passFunction(val):\n",
    "            output.append(val)\n",
    "\n",
    "#return output\n",
    " return output"
   ]
  },
  {
   "cell_type": "code",
   "execution_count": 44,
   "metadata": {},
   "outputs": [],
   "source": [
    "#Sample Code to call function\n",
    "#Declare a list number\n",
    "listVal = [1,2,3,4,5]\n",
    "\n",
    "#Call my filter function\n",
    "output = list(myfilter(lambda x: (x % 2 == 0), listVal))  \n",
    " \n",
    "#Display output\n",
    "print(output)"
   ]
  },
  {
   "cell_type": "markdown",
   "metadata": {},
   "source": [
    "2. Implement List comprehensions to produce the following lists.\n",
    "Write List comprehensions to produce the following Lists"
   ]
  },
  {
   "cell_type": "markdown",
   "metadata": {},
   "source": [
    "2.1 ['x', 'xx', 'xxx', 'xxxx', 'y', 'yy', 'yyy', 'yyyy', 'z', 'zz', 'zzz', 'zzzz']"
   ]
  },
  {
   "cell_type": "code",
   "execution_count": 26,
   "metadata": {},
   "outputs": [],
   "source": [
    "#Initializing input list\n",
    "inputList = ['x','y','z']\n",
    "\n",
    "#Declaring output list\n",
    "output = [ val*num for val in inputList for num in range(1,5)]\n",
    "\n",
    "#Print output            \n",
    "print(str(output))           "
   ]
  },
  {
   "cell_type": "markdown",
   "metadata": {},
   "source": [
    "2.2 ['x', 'y', 'z', 'xx', 'yy', 'zz', 'xxx', 'yyy', 'zzz', 'xxxx', 'yyyy', 'zzzz']"
   ]
  },
  {
   "cell_type": "code",
   "execution_count": 27,
   "metadata": {},
   "outputs": [],
   "source": [
    "#Initializing input list\n",
    "inputList = ['x','y','z']\n",
    "\n",
    "#Declaring output list\n",
    "output = [val*num for num in range(1,5) for val in inputList]\n",
    "\n",
    "#Print output            \n",
    "print(str(output)) "
   ]
  },
  {
   "cell_type": "markdown",
   "metadata": {},
   "source": [
    "2.3 [[2], [3], [4], [3], [4], [5], [4], [5], [6]] [[2, 3, 4, 5], [3, 4, 5, 6],\n",
    "[4, 5, 6, 7], [5, 6, 7, 8]]"
   ]
  },
  {
   "cell_type": "code",
   "execution_count": 28,
   "metadata": {},
   "outputs": [],
   "source": [
    "#Comprehension function to create a sing value list\n",
    "inputListOne = [2,3,4,]\n",
    "outputOne = [ [val+num] for val in inputListOne for num in range(0,3)]\n",
    "\n",
    "#Comprehension function to create a sing value list\n",
    "inputListTwo = [2,3,4,5]\n",
    "outputTwo = [ [val+num for val in inputListTwo] for num in range(0,4)]\n",
    "\n",
    "#Conctenate and print output\n",
    "print(str(outputOne + outputTwo ))"
   ]
  },
  {
   "cell_type": "markdown",
   "metadata": {},
   "source": [
    "2.4 [(1, 1), (2, 1), (3, 1), (1, 2), (2, 2), (3, 2), (1, 3), (2, 3), (3, 3)]"
   ]
  },
  {
   "cell_type": "code",
   "execution_count": 29,
   "metadata": {},
   "outputs": [],
   "source": [
    "#Inlitialization\n",
    "inputList=[1,2,3]\n",
    "\n",
    "#Comprehension function\n",
    "output = [(sVal,fVal) for fVal in inputList for sVal in inputList]\n",
    "\n",
    "#Print output\n",
    "print(str(output))"
   ]
  }
 ],
 "metadata": {
  "kernelspec": {
   "display_name": "Python 3",
   "language": "python",
   "name": "python3"
  },
  "language_info": {
   "codemirror_mode": {
    "name": "ipython",
    "version": 3
   },
   "file_extension": ".py",
   "mimetype": "text/x-python",
   "name": "python",
   "nbconvert_exporter": "python",
   "pygments_lexer": "ipython3",
   "version": "3.7.6"
  }
 },
 "nbformat": 4,
 "nbformat_minor": 4
}
